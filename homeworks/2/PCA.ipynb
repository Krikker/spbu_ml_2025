{
 "cells": [
  {
   "cell_type": "code",
   "execution_count": 1,
   "id": "f4dd3b09",
   "metadata": {},
   "outputs": [],
   "source": [
    "import os\n",
    "import numpy as np\n",
    "import pandas as pd\n",
    "import matplotlib.pyplot as plt\n",
    "from sklearn.decomposition import PCA\n",
    "from sklearn.model_selection import train_test_split\n",
    "from sklearn.ensemble import RandomForestClassifier\n",
    "from sklearn.linear_model import LogisticRegression\n",
    "from sklearn.tree import DecisionTreeClassifier\n",
    "from sklearn.metrics import accuracy_score\n",
    "from tensorflow.keras.preprocessing.image import load_img, img_to_array\n",
    "\n",
    "DATASET_PATH = \"PetImages\"\n",
    "IMG_SIZE = (96, 96)\n",
    "PHOTO_AMOUNT = 500"
   ]
  },
  {
   "cell_type": "code",
   "execution_count": 2,
   "id": "4c532134",
   "metadata": {},
   "outputs": [],
   "source": [
    "def load_data(path, img_size, sample_size):\n",
    "    data = []\n",
    "    labels = []\n",
    "    classes = ['Dog', 'Cat']\n",
    "    \n",
    "    for label, class_name in enumerate(classes):\n",
    "        class_path = os.path.join(path, class_name)\n",
    "        images = os.listdir(class_path)[:sample_size]\n",
    "        for img_name in images:\n",
    "            img_path = os.path.join(class_path, img_name)\n",
    "            img = load_img(img_path, target_size=img_size)\n",
    "            img_array = img_to_array(img) / 255.0\n",
    "            img_array = img_array.flatten()\n",
    "            data.append(img_array)\n",
    "            labels.append(label)\n",
    "    \n",
    "    return np.array(data), np.array(labels)"
   ]
  },
  {
   "cell_type": "code",
   "execution_count": 3,
   "id": "d6ed9daf",
   "metadata": {},
   "outputs": [
    {
     "ename": "FileNotFoundError",
     "evalue": "[WinError 3] Системе не удается найти указанный путь: 'PetImages\\\\Dog'",
     "output_type": "error",
     "traceback": [
      "\u001b[1;31m---------------------------------------------------------------------------\u001b[0m",
      "\u001b[1;31mFileNotFoundError\u001b[0m                         Traceback (most recent call last)",
      "Cell \u001b[1;32mIn[3], line 1\u001b[0m\n\u001b[1;32m----> 1\u001b[0m data, labels \u001b[38;5;241m=\u001b[39m \u001b[43mload_data\u001b[49m\u001b[43m(\u001b[49m\u001b[43mDATASET_PATH\u001b[49m\u001b[43m,\u001b[49m\u001b[43m \u001b[49m\u001b[43mIMG_SIZE\u001b[49m\u001b[43m,\u001b[49m\u001b[43m \u001b[49m\u001b[43mPHOTO_AMOUNT\u001b[49m\u001b[43m)\u001b[49m\n\u001b[0;32m      3\u001b[0m X_train, X_test, y_train, y_test \u001b[38;5;241m=\u001b[39m train_test_split(data, labels, test_size\u001b[38;5;241m=\u001b[39m\u001b[38;5;241m0.2\u001b[39m, random_state\u001b[38;5;241m=\u001b[39m\u001b[38;5;241m42\u001b[39m)\n\u001b[0;32m      4\u001b[0m X_train\u001b[38;5;241m.\u001b[39mshape, X_test\u001b[38;5;241m.\u001b[39mshape\n",
      "Cell \u001b[1;32mIn[2], line 8\u001b[0m, in \u001b[0;36mload_data\u001b[1;34m(path, img_size, sample_size)\u001b[0m\n\u001b[0;32m      6\u001b[0m \u001b[38;5;28;01mfor\u001b[39;00m label, class_name \u001b[38;5;129;01min\u001b[39;00m \u001b[38;5;28menumerate\u001b[39m(classes):\n\u001b[0;32m      7\u001b[0m     class_path \u001b[38;5;241m=\u001b[39m os\u001b[38;5;241m.\u001b[39mpath\u001b[38;5;241m.\u001b[39mjoin(path, class_name)\n\u001b[1;32m----> 8\u001b[0m     images \u001b[38;5;241m=\u001b[39m \u001b[43mos\u001b[49m\u001b[38;5;241;43m.\u001b[39;49m\u001b[43mlistdir\u001b[49m\u001b[43m(\u001b[49m\u001b[43mclass_path\u001b[49m\u001b[43m)\u001b[49m[:sample_size]\n\u001b[0;32m      9\u001b[0m     \u001b[38;5;28;01mfor\u001b[39;00m img_name \u001b[38;5;129;01min\u001b[39;00m images:\n\u001b[0;32m     10\u001b[0m         img_path \u001b[38;5;241m=\u001b[39m os\u001b[38;5;241m.\u001b[39mpath\u001b[38;5;241m.\u001b[39mjoin(class_path, img_name)\n",
      "\u001b[1;31mFileNotFoundError\u001b[0m: [WinError 3] Системе не удается найти указанный путь: 'PetImages\\\\Dog'"
     ]
    }
   ],
   "source": [
    "data, labels = load_data(DATASET_PATH, IMG_SIZE, PHOTO_AMOUNT)\n",
    "\n",
    "X_train, X_test, y_train, y_test = train_test_split(data, labels, test_size=0.2, random_state=42)\n",
    "X_train.shape, X_test.shape"
   ]
  },
  {
   "cell_type": "code",
   "execution_count": null,
   "id": "a84e85f4",
   "metadata": {},
   "outputs": [],
   "source": [
    "# Обучение базовой модели\n",
    "clf = RandomForestClassifier(n_estimators=100, random_state=42)\n",
    "clf.fit(X_train, y_train)\n",
    "y_pred = clf.predict(X_test)\n",
    "base_accuracy = accuracy_score(y_test, y_pred)\n",
    "print(f\"Accuracy без PCA: {base_accuracy:.4f}\")"
   ]
  },
  {
   "cell_type": "code",
   "execution_count": null,
   "id": "39320156",
   "metadata": {},
   "outputs": [],
   "source": [
    "# PCA\n",
    "pca = PCA()\n",
    "X_train_pca = pca.fit_transform(X_train)\n",
    "X_test_pca = pca.transform(X_test)\n",
    "\n",
    "# Число компонент для объяснения 90% дисперсии\n",
    "explained_variance = np.cumsum(pca.explained_variance_ratio_)\n",
    "n_components_90 = np.argmax(explained_variance >= 0.90) + 1\n",
    "print(f\"Число компонент для объяснения 90% дисперсии: {n_components_90}\")"
   ]
  },
  {
   "cell_type": "code",
   "execution_count": null,
   "id": "e7904223",
   "metadata": {},
   "outputs": [],
   "source": [
    "# Обучение модели на данных с PCA\n",
    "clf_pca = RandomForestClassifier(n_estimators=100, random_state=42)\n",
    "clf_pca.fit(X_train_pca[:, :n_components_90], y_train)\n",
    "y_pred_pca = clf_pca.predict(X_test_pca[:, :n_components_90])\n",
    "pca_accuracy = accuracy_score(y_test, y_pred_pca)\n",
    "print(f\"Accuracy с PCA ({n_components_90} компонент): {pca_accuracy:.4f}\")"
   ]
  },
  {
   "cell_type": "code",
   "execution_count": null,
   "id": "c5cd9f4e",
   "metadata": {},
   "outputs": [],
   "source": [
    "# График зависимости качества от числа компонент\n",
    "component_range = np.arange(1, X_train_pca.shape[1] + 1, 10)\n",
    "accuracies = []\n",
    "for n in component_range:\n",
    "    clf = RandomForestClassifier(n_estimators=100, random_state=42)\n",
    "    clf.fit(X_train_pca[:, :n], y_train)\n",
    "    y_pred = clf.predict(X_test_pca[:, :n])\n",
    "    accuracies.append(accuracy_score(y_test, y_pred))\n",
    "\n",
    "plt.figure(figsize=(8, 5))\n",
    "plt.plot(component_range, accuracies, marker='o')\n",
    "plt.xlabel(\"Число компонент PCA\")\n",
    "plt.ylabel(\"Точность\")\n",
    "plt.title(\"Зависимость качества классификации от числа компонент\")\n",
    "plt.show()\n",
    "\n",
    "# График зависимости объясненной дисперсии от числа компонент\n",
    "plt.figure(figsize=(8, 5))\n",
    "plt.plot(np.arange(1, len(explained_variance) + 1), explained_variance, marker='o')\n",
    "plt.axhline(y=0.9, color='r', linestyle='--')\n",
    "plt.xlabel(\"Число компонент\")\n",
    "plt.ylabel(\"Процент объясненной дисперсии\")\n",
    "plt.title(\"Зависимость объясненной дисперсии от числа компонент\")\n",
    "plt.show()"
   ]
  },
  {
   "cell_type": "code",
   "execution_count": null,
   "id": "1ffe499a",
   "metadata": {},
   "outputs": [],
   "source": [
    "# Первые 10 главных компонент\n",
    "fig, axes = plt.subplots(2, 5, figsize=(12, 5))\n",
    "for i, ax in enumerate(axes.ravel()):\n",
    "    component = pca.components_[i].reshape(IMG_SIZE[0], IMG_SIZE[1], 3)\n",
    "    component = (component - component.min()) / (component.max() - component.min())  # Нормализация\n",
    "    ax.imshow(component)\n",
    "    ax.set_title(f'Компонента {i+1}')\n",
    "    ax.axis('off')\n",
    "plt.show()"
   ]
  },
  {
   "cell_type": "code",
   "execution_count": null,
   "id": "86441f10",
   "metadata": {},
   "outputs": [],
   "source": [
    "# Сравнение моделей\n",
    "models = {\n",
    "    \"Логистическая регрессия\": LogisticRegression(max_iter=1000),\n",
    "    \"Дерево решений\": DecisionTreeClassifier(),\n",
    "    \"Случайный лес\": RandomForestClassifier(n_estimators=100, random_state=42)\n",
    "}\n",
    "\n",
    "for name, model in models.items():\n",
    "    model.fit(X_train_pca[:, :n_components_90], y_train)\n",
    "    y_pred = model.predict(X_test_pca[:, :n_components_90])\n",
    "    print(f\"Точность {name} с PCA: {accuracy_score(y_test, y_pred):.4f}\")"
   ]
  }
 ],
 "metadata": {
  "kernelspec": {
   "display_name": "Python 3 (ipykernel)",
   "language": "python",
   "name": "python3"
  },
  "language_info": {
   "codemirror_mode": {
    "name": "ipython",
    "version": 3
   },
   "file_extension": ".py",
   "mimetype": "text/x-python",
   "name": "python",
   "nbconvert_exporter": "python",
   "pygments_lexer": "ipython3",
   "version": "3.12.0"
  }
 },
 "nbformat": 4,
 "nbformat_minor": 5
}
